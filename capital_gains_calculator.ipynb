{
 "cells": [
  {
   "cell_type": "markdown",
   "metadata": {},
   "source": [
    "# Capital Gains Calculator\n",
    "\n",
    "Given trades inputs from IBKR, determine capital gains from lots after a transfer.\n"
   ]
  },
  {
   "cell_type": "markdown",
   "metadata": {},
   "source": [
    "## 1. Derivation of the final formula\n",
    "\n",
    "Assuming absolute values, then the output for the Post-Transfer P&L for a sale is\n",
    "$$ \\begin{aligned}\n",
    "\\text{Post-Transfer P\\&L} &= \\text{Proceeds} - \\text{Commission} - \\text{Transfer Cost} \\\\\n",
    "\\implies \\text{Post-Transfer P\\&L} &= \\text{Realized P\\&L} + \\text{Basis} - \\text{Quantity} \\times \\text{Transfer Price}\n",
    "\\end{aligned} $$\n"
   ]
  },
  {
   "cell_type": "code",
   "execution_count": null,
   "metadata": {},
   "outputs": [],
   "source": [
    "# set the file location\n",
    "trade_filepath = \"./data/raw/[INSERT_FILENAME_HERE].csv\"\n",
    "transfer_filepath = \"./data/raw/[INSERT_FILENAME_HERE].csv\"\n"
   ]
  },
  {
   "cell_type": "markdown",
   "metadata": {},
   "source": [
    "## 2. Read the data"
   ]
  },
  {
   "cell_type": "code",
   "execution_count": null,
   "metadata": {},
   "outputs": [],
   "source": [
    "# install prereqs if not installed\n",
    "# %pip install pandas --quiet\n",
    "\n",
    "# standard imports\n",
    "import re\n",
    "import pandas as pd\n",
    "\n",
    "# util imports\n",
    "from util.read_without_statement_rows import read_without_statement_rows\n",
    "from util.remove_commas import remove_commas\n",
    "from util.add_parent_row_index import add_parent_row_index\n"
   ]
  },
  {
   "cell_type": "code",
   "execution_count": null,
   "metadata": {},
   "outputs": [],
   "source": [
    "# generate the raw dfs\n",
    "raw_trade_df = read_without_statement_rows(trade_filepath)\n",
    "raw_transfer_df = read_without_statement_rows(transfer_filepath)\n"
   ]
  },
  {
   "cell_type": "markdown",
   "metadata": {},
   "source": [
    "## 3. Cleaning the data"
   ]
  },
  {
   "cell_type": "markdown",
   "metadata": {},
   "source": [
    "### 3.1. Get Lot Transfer Data\n",
    "`raw_transfer_df` will contain lots that were transferred to the new accounts. Columns I will need *per lot*:\n",
    "- Transferred Lot Primary Key:\n",
    "  - Currency\n",
    "  - Symbol\n",
    "  - Date/Time\n",
    "  - Quantity\n",
    "  - Purchase Price\n",
    "- Transfer Price\n",
    "\n",
    "To get transfer price, I will need to extract parent rows for transfers to get $\\text{Transfer Price} = \\frac{\\text{Market Value}}{\\text{Quantity}}$. I will then need to left join parent rows and transferred lots based in their row order."
   ]
  },
  {
   "cell_type": "markdown",
   "metadata": {},
   "source": [
    "#### 3.1.1. Filter for Parent Rows and Transferred Lots\n",
    "\n",
    "First, separate `raw_transfer_df` into two: `transferred_lot_df`, and `transfer_order_df`."
   ]
  },
  {
   "cell_type": "code",
   "execution_count": null,
   "metadata": {},
   "outputs": [],
   "source": [
    "# create two new dfs based on parents and child rows\n",
    "transferred_lot_df = raw_transfer_df[raw_transfer_df[\"Symbol\"] == \"Transferred Lot:\"]\n",
    "transfer_order_df = raw_transfer_df[raw_transfer_df[\"Asset Category\"] == \"Stocks\"]\n"
   ]
  },
  {
   "cell_type": "markdown",
   "metadata": {},
   "source": [
    "#### 3.1.2. Filter for Useful Transfer Columns\n",
    "Next, keep and rename the useful columns for each dataframe.\n",
    "\n",
    "Transferred Lot Columns:\n",
    "- Row Number (this is stored in the index, and not explicitly stated in code)\n",
    "- Buy Date\n",
    "- Buy Quantity\n",
    "- Buy Price (AKA `\"Xfer Price\"`)\n",
    "\n",
    "Transfer Order Columns: \n",
    "- Row Number (this is stored in the index, and not explicitly stated in code)\n",
    "- Currency\n",
    "- Symbol\n",
    "- Transfer Date\n",
    "- Transfer Quantity\n",
    "- Transfer Market Value"
   ]
  },
  {
   "cell_type": "code",
   "execution_count": null,
   "metadata": {},
   "outputs": [],
   "source": [
    "# set the columns to keep for each and their column names\n",
    "transferred_lot_cols = {\n",
    "    \"Date\"          : \"lot_date\",       # lot pk\n",
    "    \"Qty\"           : \"lot_quantity\",   # lot pk\n",
    "    \"Xfer Price\"    : \"lot_buy_price\"   # lot pk\n",
    "}\n",
    "\n",
    "transfer_order_cols = {\n",
    "    \"Currency\"      : \"lot_currency\",   # lot pk\n",
    "    \"Symbol\"        : \"lot_symbol\",     # lot pk\n",
    "    \"Date\"          : \"transfer_date\",\n",
    "    \"Qty\"           : \"transfer_quantity\",\n",
    "    \"Market Value\"  : \"transfer_market_value\"\n",
    "}\n"
   ]
  },
  {
   "cell_type": "code",
   "execution_count": null,
   "metadata": {},
   "outputs": [],
   "source": [
    "# apply column filtering and naming as defined above\n",
    "transferred_lot_df = transferred_lot_df[transferred_lot_cols.keys()]\n",
    "transferred_lot_df = transferred_lot_df.rename(transferred_lot_cols, axis = 1)\n",
    "transfer_order_df = transfer_order_df[transfer_order_cols.keys()]\n",
    "transfer_order_df = transfer_order_df.rename(transfer_order_cols, axis = 1)\n"
   ]
  },
  {
   "cell_type": "markdown",
   "metadata": {},
   "source": [
    "#### 3.1.3. Convert to Correct Data Types\n",
    "\n",
    "Convert numeric columns to numeric data types so calculations don't cause errors down the line."
   ]
  },
  {
   "cell_type": "code",
   "execution_count": null,
   "metadata": {},
   "outputs": [],
   "source": [
    "# define numeric columns\n",
    "transfer_numeric_cols = [\n",
    "    \"lot_quantity\", \n",
    "    \"lot_buy_price\", \n",
    "    \"transfer_quantity\",\n",
    "    \"transfer_market_value\"\n",
    "]\n",
    "\n",
    "# define date cols\n",
    "transfer_date_cols = [\"lot_date\", \"transfer_date\"]\n"
   ]
  },
  {
   "cell_type": "code",
   "execution_count": null,
   "metadata": {},
   "outputs": [],
   "source": [
    "for col in transfer_numeric_cols:\n",
    "    if col in transferred_lot_df.columns:\n",
    "        transferred_lot_df[col] = transferred_lot_df[col].apply(remove_commas)\n",
    "        transferred_lot_df[col] = transferred_lot_df[col].astype(\"float\")\n",
    "    if col in transfer_order_df.columns:\n",
    "        transfer_order_df[col] = transfer_order_df[col].apply(remove_commas)\n",
    "        transfer_order_df[col] = transfer_order_df[col].astype(\"float\")\n",
    "\n",
    "for col in transfer_date_cols:\n",
    "    if col in transferred_lot_df.columns:\n",
    "        transferred_lot_df[col] = pd.to_datetime(transferred_lot_df[col])\n",
    "    if col in transfer_order_df.columns:\n",
    "        transfer_order_df[col] = pd.to_datetime(transfer_order_df[col])\n"
   ]
  },
  {
   "cell_type": "code",
   "execution_count": null,
   "metadata": {},
   "outputs": [],
   "source": [
    "transferred_lot_df.head(5)\n"
   ]
  },
  {
   "cell_type": "code",
   "execution_count": null,
   "metadata": {},
   "outputs": [],
   "source": [
    "transfer_order_df.head(5)\n"
   ]
  },
  {
   "cell_type": "markdown",
   "metadata": {},
   "source": [
    "### 3.2. Get Closed Lot Data"
   ]
  },
  {
   "cell_type": "markdown",
   "metadata": {},
   "source": [
    "#### 3.2.1. Filter for Parent Rows and Closed Lots\n",
    "Separate `raw_trade_df` into two: `closed_lot_df`, and `sell_order_df`."
   ]
  },
  {
   "cell_type": "code",
   "execution_count": null,
   "metadata": {},
   "outputs": [],
   "source": [
    "# create two new dfs based on parents and child rows\n",
    "closed_lot_df = raw_trade_df[raw_trade_df[\"DataDiscriminator\"] == \"ClosedLot\"]\n",
    "sell_order_df = raw_trade_df[raw_trade_df[\"DataDiscriminator\"] == \"Trade\"]\n"
   ]
  },
  {
   "cell_type": "markdown",
   "metadata": {},
   "source": [
    "#### 3.2.2. Filter for Useful Closed Lot Columns\n",
    "`raw_trades_df` will contain the lots which are closed (i.e. sold). \n",
    "\n",
    "Closed Lot Columns:\n",
    "- Row Number (this is stored in the index, and not explicitly stated in code)\n",
    "- Symbol\n",
    "- Buy Date\n",
    "- Buy Quantity\n",
    "- Buy Price (AKA `\"T. Price\"`)\n",
    "- Realized P&L\n",
    "- Basis\n",
    "\n",
    "Sell Order Columns:\n",
    "- Row Number (this is stored in the index, and not explicitly stated in code)\n",
    "- Sell Date"
   ]
  },
  {
   "cell_type": "code",
   "execution_count": null,
   "metadata": {},
   "outputs": [],
   "source": [
    "# set the useful columns for closed lots (and their new names)\n",
    "closed_lot_cols = {\n",
    "    \"Symbol\"        : \"lot_symbol\",          # pk\n",
    "    \"Date/Time\"     : \"lot_date\",            # pk\n",
    "    \"Quantity\"      : \"lot_quantity\",        # pk\n",
    "    \"T. Price\"      : \"lot_buy_price\",       # pk\n",
    "    \"Realized P/L\"  : \"lot_realized_pnl\",    # Realized P&L\n",
    "    \"Basis\"         : \"lot_basis\",           # Basis\n",
    "    \"Currency\"      : \"lot_currency\"         # Currency (just in case)\n",
    "}\n",
    "\n",
    "sell_order_cols = {\n",
    "    \"Date/Time\"     : \"lot_sell_date\"        # sell date\n",
    "}\n"
   ]
  },
  {
   "cell_type": "code",
   "execution_count": null,
   "metadata": {},
   "outputs": [],
   "source": [
    "# create the closed_lot dataframe with above-defined columns\n",
    "closed_lot_df = closed_lot_df[closed_lot_cols.keys()]\n",
    "closed_lot_df = closed_lot_df.rename(closed_lot_cols, axis = 1)\n",
    "sell_order_df = sell_order_df[sell_order_cols.keys()]\n",
    "sell_order_df = sell_order_df.rename(sell_order_cols, axis = 1)\n"
   ]
  },
  {
   "cell_type": "markdown",
   "metadata": {},
   "source": [
    "#### 3.2.3. Convert to Correct Data Types\n",
    "Convert numeric columns to numeric data types so calculations don't cause errors down the line."
   ]
  },
  {
   "cell_type": "code",
   "execution_count": null,
   "metadata": {},
   "outputs": [],
   "source": [
    "# define the numeric columns\n",
    "closed_lot_numeric_cols = [\n",
    "    \"lot_quantity\",\n",
    "    \"lot_buy_price\",\n",
    "    \"lot_realized_pnl\",\n",
    "    \"lot_basis\"\n",
    "]\n",
    "\n",
    "# define date cols\n",
    "closed_lot_date_cols = [\"lot_date\", \"lot_sell_date\"]\n"
   ]
  },
  {
   "cell_type": "code",
   "execution_count": null,
   "metadata": {},
   "outputs": [],
   "source": [
    "for col in closed_lot_numeric_cols:\n",
    "    if col in closed_lot_df.columns:\n",
    "        closed_lot_df[col] = closed_lot_df[col].apply(remove_commas)\n",
    "        closed_lot_df[col] = closed_lot_df[col].astype(\"float\")\n",
    "    if col in sell_order_df.columns:\n",
    "        sell_order_df[col] = sell_order_df[col].apply(remove_commas)\n",
    "        sell_order_df[col] = sell_order_df[col].astype(\"float\")\n",
    "\n",
    "for col in closed_lot_date_cols:\n",
    "    if col in closed_lot_df.columns:\n",
    "        closed_lot_df[col] = pd.to_datetime(closed_lot_df[col])\n",
    "    if col in sell_order_df.columns:\n",
    "        sell_order_df[col] = pd.to_datetime(sell_order_df[col])\n"
   ]
  },
  {
   "cell_type": "code",
   "execution_count": null,
   "metadata": {},
   "outputs": [],
   "source": [
    "closed_lot_df.head(5)\n"
   ]
  },
  {
   "cell_type": "code",
   "execution_count": null,
   "metadata": {},
   "outputs": [],
   "source": [
    "sell_order_df.head(5)\n"
   ]
  },
  {
   "cell_type": "markdown",
   "metadata": {},
   "source": [
    "### 3.3. Save cleaned data"
   ]
  },
  {
   "cell_type": "code",
   "execution_count": null,
   "metadata": {},
   "outputs": [],
   "source": [
    "sell_order_df.to_csv(\"./data/cleaned/sell_orders.csv\")\n",
    "closed_lot_df.to_csv(\"./data/cleaned/closed_lots.csv\")\n",
    "transfer_order_df.to_csv(\"./data/cleaned/transfer_orders.csv\")\n",
    "transferred_lot_df.to_csv(\"./data/cleaned/transferred_lots.csv\")\n"
   ]
  },
  {
   "cell_type": "markdown",
   "metadata": {},
   "source": [
    "## 4. Joining the data"
   ]
  },
  {
   "cell_type": "markdown",
   "metadata": {},
   "source": [
    "### 4.1. Joining transferred lots and transfer orders"
   ]
  },
  {
   "cell_type": "markdown",
   "metadata": {},
   "source": [
    "#### 4.1.1. Determine which transfer order corresponds to which transferred lot\n"
   ]
  },
  {
   "cell_type": "code",
   "execution_count": null,
   "metadata": {},
   "outputs": [],
   "source": [
    "# calculate the parent rows\n",
    "transferred_lot_df = add_parent_row_index(transferred_lot_df, transfer_order_df)\n"
   ]
  },
  {
   "cell_type": "code",
   "execution_count": null,
   "metadata": {},
   "outputs": [],
   "source": [
    "transferred_lot_df.head(5)\n"
   ]
  },
  {
   "cell_type": "markdown",
   "metadata": {},
   "source": [
    "#### 4.1.2. Join transferred lots and transfer orders\n"
   ]
  },
  {
   "cell_type": "code",
   "execution_count": null,
   "metadata": {},
   "outputs": [],
   "source": [
    "# join the dfs\n",
    "transfer_df = transfer_order_df.merge(\n",
    "    transferred_lot_df,\n",
    "    left_index = True,\n",
    "    right_on = \"parent_index\"\n",
    ")\n"
   ]
  },
  {
   "cell_type": "code",
   "execution_count": null,
   "metadata": {},
   "outputs": [],
   "source": [
    "transfer_df.head(5)\n"
   ]
  },
  {
   "cell_type": "markdown",
   "metadata": {},
   "source": [
    "### 4.2. Joining closed lots and sell dates"
   ]
  },
  {
   "cell_type": "markdown",
   "metadata": {},
   "source": [
    "#### 4.2.1. Determine which sell date corresponds to which closed lot"
   ]
  },
  {
   "cell_type": "code",
   "execution_count": null,
   "metadata": {},
   "outputs": [],
   "source": [
    "# calculate the parent rows\n",
    "closed_lot_df = add_parent_row_index(closed_lot_df, sell_order_df)\n"
   ]
  },
  {
   "cell_type": "code",
   "execution_count": null,
   "metadata": {},
   "outputs": [],
   "source": [
    "closed_lot_df.head(5)\n"
   ]
  },
  {
   "cell_type": "markdown",
   "metadata": {},
   "source": [
    "#### 4.2.2. Join closed lots and sell dates"
   ]
  },
  {
   "cell_type": "code",
   "execution_count": null,
   "metadata": {},
   "outputs": [],
   "source": [
    "# join the dfs\n",
    "sell_df = closed_lot_df.merge(\n",
    "    sell_order_df,\n",
    "    left_on = \"parent_index\",\n",
    "    right_index = True\n",
    ")\n"
   ]
  },
  {
   "cell_type": "code",
   "execution_count": null,
   "metadata": {},
   "outputs": [],
   "source": [
    "sell_df.head(5)\n"
   ]
  },
  {
   "cell_type": "markdown",
   "metadata": {},
   "source": [
    "### 4.3. Joining transfers and closed lots"
   ]
  },
  {
   "cell_type": "code",
   "execution_count": null,
   "metadata": {},
   "outputs": [],
   "source": [
    "# define the index for lots\n",
    "merge_cols = [\n",
    "    \"lot_symbol\",\n",
    "    \"lot_date\",\n",
    "    \"lot_buy_price\",\n",
    "    \"lot_currency\"\n",
    "]\n"
   ]
  },
  {
   "cell_type": "code",
   "execution_count": null,
   "metadata": {},
   "outputs": [],
   "source": [
    "# TODO: Delete this once a better solution presents itself\n",
    "# Round `lot_buy_price` \n",
    "# to prevent different s.f. levels between trades and transfers to affect join\n",
    "lot_buy_price_decimal_places = 6\n",
    "transfer_df[\"lot_buy_price\"] = transfer_df[\"lot_buy_price\"].apply(\n",
    "    lambda n: round(n, lot_buy_price_decimal_places)\n",
    ")\n",
    "sell_df[\"lot_buy_price\"] = sell_df[\"lot_buy_price\"].apply(\n",
    "    lambda n: round(n, lot_buy_price_decimal_places)\n",
    ")\n"
   ]
  },
  {
   "cell_type": "code",
   "execution_count": null,
   "metadata": {},
   "outputs": [],
   "source": [
    "output_df = transfer_df.merge(\n",
    "    sell_df,\n",
    "    how = \"left\",\n",
    "    on = merge_cols,\n",
    "    suffixes = [\"_t\", \"_cl\"],\n",
    "\n",
    ")\n"
   ]
  },
  {
   "cell_type": "code",
   "execution_count": null,
   "metadata": {},
   "outputs": [],
   "source": [
    "output_df.head(5)\n"
   ]
  },
  {
   "cell_type": "markdown",
   "metadata": {},
   "source": [
    "### 4.4. Save the joined data"
   ]
  },
  {
   "cell_type": "code",
   "execution_count": null,
   "metadata": {},
   "outputs": [],
   "source": [
    "transfer_df.to_csv(\"./data/cleaned/joined/transfers.csv\")\n",
    "sell_df.to_csv(\"./data/cleaned/joined/sells.csv\")\n"
   ]
  },
  {
   "cell_type": "markdown",
   "metadata": {},
   "source": [
    "## 5. Calculate Output"
   ]
  },
  {
   "cell_type": "markdown",
   "metadata": {},
   "source": [
    "Assuming absolute values, then the output for the Post-Transfer P&L for a sale is\n",
    "$$ \\begin{aligned}\n",
    "\\text{Post-Transfer P\\&L} &= \\text{Proceeds} - \\text{Commission} - \\text{Transfer Cost} \\\\\n",
    "\\implies \\text{Post-Transfer P\\&L} &= \\text{Realized P\\&L} + \\text{Basis} - \\text{Quantity Sold} \\times \\text{Transfer Price}\n",
    "\\end{aligned} $$"
   ]
  },
  {
   "cell_type": "markdown",
   "metadata": {},
   "source": [
    "### 5.1. Calculate the transfer price"
   ]
  },
  {
   "cell_type": "markdown",
   "metadata": {},
   "source": [
    "- Transfer Price (where $\\text{Transfer Price} = \\frac{\\text{Transfer Market Value}}{\\text{Transfer Quantity}}$)"
   ]
  },
  {
   "cell_type": "code",
   "execution_count": null,
   "metadata": {},
   "outputs": [],
   "source": [
    "output_df.loc[:, \"transfer_price\"] = output_df[\"transfer_market_value\"] \\\n",
    "    / output_df[\"transfer_quantity\"]\n"
   ]
  },
  {
   "cell_type": "code",
   "execution_count": null,
   "metadata": {},
   "outputs": [],
   "source": [
    "output_df.head(5)\n"
   ]
  },
  {
   "cell_type": "markdown",
   "metadata": {},
   "source": [
    "### 5.2. Pre-transfer Profit/Loss"
   ]
  },
  {
   "cell_type": "markdown",
   "metadata": {},
   "source": [
    "#### 5.2.1. Calculate pre-transfer profit/loss"
   ]
  },
  {
   "cell_type": "markdown",
   "metadata": {},
   "source": [
    "Assuming absolute values, then the output for the Pre-Transfer P&L for a sale is\n",
    "$$ \\begin{aligned}\n",
    "\\text{Pre-Transfer P\\&L} &= \\text{Transfer Market Value} - \\text{Commission} - \\text{Purchase Cost} \\\\\n",
    "\\implies \\text{Pre-Transfer P\\&L} &= \\text{Quantity Sold} \\times \\text{Transfer Price} - \\text{Basis}\n",
    "\\end{aligned} $$"
   ]
  },
  {
   "cell_type": "code",
   "execution_count": null,
   "metadata": {},
   "outputs": [],
   "source": [
    "output_df.loc[:, \"pre_transfer_pnl\"] = (\n",
    "    (\n",
    "        output_df[\"lot_quantity_cl\"] *\n",
    "        output_df[\"transfer_price\"]\n",
    "    ) - output_df[\"lot_basis\"]\n",
    ")\n",
    "\n",
    "# round\n",
    "output_df[\"pre_transfer_pnl\"] = output_df[\"pre_transfer_pnl\"].apply(\n",
    "    lambda n: round(n, 5)\n",
    ")\n"
   ]
  },
  {
   "cell_type": "markdown",
   "metadata": {},
   "source": [
    "#### 5.2.2. Determine whether pre-transfer was long-term or short-term\n",
    "\n",
    "Consider it short term if $\\text{Transfer Date} - \\text{Purchase Date} < 12 \\text{ Months}$"
   ]
  },
  {
   "cell_type": "code",
   "execution_count": null,
   "metadata": {},
   "outputs": [],
   "source": [
    "# calculate the time elapsed between sale and transfer\n",
    "output_df.loc[:, \"time_between_buy_and_transfer\"] = (\n",
    "    output_df[\"transfer_date\"] - output_df[\"lot_date\"]\n",
    ")\n",
    "output_df.loc[:, \"time_since_transfer\"] = pd.to_timedelta(\n",
    "    output_df[\"time_between_buy_and_transfer\"])\n"
   ]
  },
  {
   "cell_type": "code",
   "execution_count": null,
   "metadata": {},
   "outputs": [],
   "source": [
    "# create a lt/st dictionary to map true/false values to their time codes.\n",
    "lt_st_dict = {True: \"LT\", False: \"ST\"}\n"
   ]
  },
  {
   "cell_type": "code",
   "execution_count": null,
   "metadata": {},
   "outputs": [],
   "source": [
    "output_df.loc[:, \"pre_transfer_is_long_term\"] = \\\n",
    "    (output_df[\"time_between_buy_and_transfer\"].dt.total_seconds() > (365.25 * 24 * 60 * 60)).map(lt_st_dict)\n"
   ]
  },
  {
   "cell_type": "markdown",
   "metadata": {},
   "source": [
    "### 5.3. Post-transfer Profit/Loss"
   ]
  },
  {
   "cell_type": "markdown",
   "metadata": {},
   "source": [
    "#### 5.3.1. Calculate the post-transfer profit/loss"
   ]
  },
  {
   "cell_type": "markdown",
   "metadata": {},
   "source": [
    "Assuming absolute values, then the output for the Post-Transfer P&L for a sale is\n",
    "$$ \\begin{aligned}\n",
    "\\text{Post-Transfer P\\&L} &= \\text{Proceeds} - \\text{Commission} - \\text{Transfer Cost} \\\\\n",
    "\\implies \\text{Post-Transfer P\\&L} &= \\text{Realized P\\&L} + \\text{Basis} - \\text{Quantity Sold} \\times \\text{Transfer Price}\n",
    "\\end{aligned} $$"
   ]
  },
  {
   "cell_type": "code",
   "execution_count": null,
   "metadata": {},
   "outputs": [],
   "source": [
    "output_df.loc[:, \"post_transfer_pnl\"] = (\n",
    "    output_df[\"lot_realized_pnl\"] + \n",
    "    output_df[\"lot_basis\"] - (\n",
    "        output_df[\"lot_quantity_cl\"] * \n",
    "        output_df[\"transfer_price\"]\n",
    "    )\n",
    ")\n",
    "\n",
    "# round\n",
    "output_df[\"post_transfer_pnl\"] = output_df[\"post_transfer_pnl\"].apply(\n",
    "    lambda n: round(n, 5)\n",
    ")\n"
   ]
  },
  {
   "cell_type": "markdown",
   "metadata": {},
   "source": [
    "#### 5.3.2. Determine whether post-transfer is a long-term or short-term sale\n",
    "\n",
    "Consider it short term if $\\text{Sell Date} - \\text{Transfer Date} < 12 \\text{ Months}$"
   ]
  },
  {
   "cell_type": "code",
   "execution_count": null,
   "metadata": {},
   "outputs": [],
   "source": [
    "# calculate the time elapsed between sale and transfer\n",
    "output_df.loc[:, \"time_since_transfer\"] = (\n",
    "    output_df[\"lot_sell_date\"] - output_df[\"transfer_date\"]\n",
    ")\n",
    "output_df.loc[:, \"time_since_transfer\"] = pd.to_timedelta(output_df[\"time_since_transfer\"])\n"
   ]
  },
  {
   "cell_type": "code",
   "execution_count": null,
   "metadata": {},
   "outputs": [],
   "source": [
    "# create a lt/st dictionary to map true/false values to their time codes.\n",
    "lt_st_dict = {\n",
    "    True    : \"LT\",\n",
    "    False   : \"ST\"\n",
    "}\n"
   ]
  },
  {
   "cell_type": "code",
   "execution_count": null,
   "metadata": {},
   "outputs": [],
   "source": [
    "output_df.loc[:, \"post_transfer_is_long_term\"] = \\\n",
    "    (output_df[\"time_since_transfer\"].dt.total_seconds() > (365.25 * 24 * 60 * 60)).map(lt_st_dict)\n"
   ]
  },
  {
   "cell_type": "code",
   "execution_count": null,
   "metadata": {},
   "outputs": [],
   "source": [
    "output_df[output_df[\"post_transfer_pnl\"].notna()]\n"
   ]
  },
  {
   "cell_type": "code",
   "execution_count": null,
   "metadata": {},
   "outputs": [],
   "source": [
    "output_df.columns\n"
   ]
  },
  {
   "cell_type": "markdown",
   "metadata": {},
   "source": [
    "## 6. Save the output"
   ]
  },
  {
   "cell_type": "markdown",
   "metadata": {},
   "source": [
    "### 6.1. Rename the columns for output"
   ]
  },
  {
   "cell_type": "code",
   "execution_count": null,
   "metadata": {},
   "outputs": [],
   "source": [
    "# columns to save to output\n",
    "output_cols = {\n",
    "    \"lot_currency\"          : \"lot_currency\",\n",
    "    \"lot_symbol\"            : \"lot_symbol\",\n",
    "    \"lot_date\"              : \"lot_date\",\n",
    "    \"lot_buy_price\"         : \"lot_buy_price\",\n",
    "    \"lot_basis\"             : \"lot_basis\",\n",
    "    \"transfer_date\"         : \"transfer_date\",\n",
    "    \"transfer_price\"        : \"transfer_price\",\n",
    "    \"lot_quantity_cl\"       : \"sell_quantity\",\n",
    "    \"lot_realized_pnl\"      : \"sell_realised_pnl\",\n",
    "    \"lot_sell_date\"         : \"sell_date\",\n",
    "    \"post_transfer_pnl\"     : \"post_transfer_realised_pnl\",\n",
    "    \"time_since_transfer\"   : \"post_transfer_time_elapsed\",\n",
    "    \"is_long_term\"          : \"post_transfer_is_long_term\"\n",
    "}\n"
   ]
  },
  {
   "cell_type": "code",
   "execution_count": null,
   "metadata": {},
   "outputs": [],
   "source": [
    "output_df = output_df[output_cols.keys()]\n",
    "output_df = output_df.rename(output_cols, axis = 1)\n"
   ]
  },
  {
   "cell_type": "markdown",
   "metadata": {},
   "source": [
    "### 6.2. Save to CSV"
   ]
  },
  {
   "cell_type": "code",
   "execution_count": null,
   "metadata": {},
   "outputs": [],
   "source": [
    "output_df.to_csv(\"./data/out/output.csv\")\n"
   ]
  }
 ],
 "metadata": {
  "kernelspec": {
   "display_name": "Python 3",
   "language": "python",
   "name": "python3"
  },
  "language_info": {
   "codemirror_mode": {
    "name": "ipython",
    "version": 3
   },
   "file_extension": ".py",
   "mimetype": "text/x-python",
   "name": "python",
   "nbconvert_exporter": "python",
   "pygments_lexer": "ipython3",
   "version": "3.12.2"
  }
 },
 "nbformat": 4,
 "nbformat_minor": 2
}
